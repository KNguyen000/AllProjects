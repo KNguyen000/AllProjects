{
 "cells": [
  {
   "cell_type": "code",
   "execution_count": 1,
   "id": "a26e5218-d58e-4593-98ea-13115e15f7a1",
   "metadata": {},
   "outputs": [
    {
     "name": "stderr",
     "output_type": "stream",
     "text": [
      "2023-09-05 13:50:23.826263: I tensorflow/core/platform/cpu_feature_guard.cc:182] This TensorFlow binary is optimized to use available CPU instructions in performance-critical operations.\n",
      "To enable the following instructions: AVX2 FMA, in other operations, rebuild TensorFlow with the appropriate compiler flags.\n"
     ]
    }
   ],
   "source": [
    "import pandas as pd\n",
    "import numpy as np\n",
    "import tensorflow as tf\n",
    "import matplotlib.pyplot as plt\n",
    "\n",
    "from sklearn.model_selection import train_test_split\n",
    "from sklearn.neighbors import KNeighborsClassifier\n",
    "from sklearn.svm import SVC, NuSVC\n",
    "from sklearn.multiclass import OneVsRestClassifier, OneVsOneClassifier\n",
    "from sklearn.linear_model import LogisticRegression\n",
    "from sklearn.metrics import confusion_matrix, ConfusionMatrixDisplay\n",
    "\n",
    "import math\n",
    "\n",
    "from tensorflow.keras.preprocessing.sequence import pad_sequences\n",
    "from tensorflow.keras.preprocessing.text import text_to_word_sequence, Tokenizer\n",
    "from tensorflow.keras.models import Sequential\n",
    "from tensorflow.keras import layers \n",
    "from sklearn.metrics import confusion_matrix, ConfusionMatrixDisplay\n",
    "from tensorflow import keras\n",
    "from tensorflow.keras.utils import model_to_dot, plot_model\n"
   ]
  },
  {
   "cell_type": "markdown",
   "id": "a9c3f1b3-930b-4757-bd04-a75b90a107a4",
   "metadata": {},
   "source": [
    "# Import"
   ]
  },
  {
   "cell_type": "code",
   "execution_count": 10,
   "id": "b9dfd5e6-743e-4809-89df-3c4ab8fd05e9",
   "metadata": {
    "tags": []
   },
   "outputs": [],
   "source": [
    "cus_j = pd.read_csv('data/customer_journey.csv')\n",
    "result = pd.read_csv('data/results.csv')"
   ]
  },
  {
   "cell_type": "markdown",
   "id": "993256b4-42a6-4152-9ce6-f5512a81638e",
   "metadata": {},
   "source": [
    "# Load Data"
   ]
  },
  {
   "cell_type": "code",
   "execution_count": 117,
   "id": "4f1f9c38-8d2f-438d-bd25-13b15a95adf2",
   "metadata": {
    "tags": []
   },
   "outputs": [],
   "source": [
    "j = 0\n",
    "a = [] #List of channel paths by User and Session\n",
    "b = [] #temporary list of channel path\n",
    "\n",
    "c = [] #List of time session of channel path\n",
    "d = [] #temporary list of time session\n",
    "for i in range(len(cus_j)):\n",
    "    if (cus_j.iloc[i,0] == result.iloc[j,0]) and (cus_j.iloc[i,1] == result.iloc[j,1]):\n",
    "        b.append(cus_j.iloc[i,3])\n",
    "        d.append(cus_j.iloc[i,4])\n",
    "    else:\n",
    "        j=j+1\n",
    "        d.reverse()\n",
    "        a.append(b)\n",
    "        c.append(d)\n",
    "        b = []\n",
    "        b.append(cus_j.iloc[i,3])\n",
    "        d = []\n",
    "        d.append(cus_j.iloc[i,4])\n",
    "a.append(b) #include the last row\n",
    "c.append(d) #include the last row"
   ]
  },
  {
   "cell_type": "markdown",
   "id": "8baa976c-36c4-4441-86c1-500f967502e8",
   "metadata": {},
   "source": [
    "# Pre-processing"
   ]
  },
  {
   "cell_type": "code",
   "execution_count": 118,
   "id": "d8f866a3-9e12-47f1-9547-77d49de3b566",
   "metadata": {
    "tags": []
   },
   "outputs": [],
   "source": [
    "d = result.iloc[:,2].values.tolist()"
   ]
  },
  {
   "cell_type": "code",
   "execution_count": 120,
   "id": "3d946c96-58bd-4f19-a77f-53e4b7215818",
   "metadata": {
    "tags": []
   },
   "outputs": [],
   "source": [
    "#remove all elements that are length 2 or less\n",
    "len_a = len(a)\n",
    "for i in range(len(a)):\n",
    "    if len(a[len_a-i-1]) <= 2:\n",
    "            a.pop(len_a-i-1)\n",
    "            c.pop(len_a-i-1)\n",
    "            d.pop(len_a-i-1)"
   ]
  },
  {
   "cell_type": "code",
   "execution_count": 122,
   "id": "f0dba218-f840-4f49-8322-34502cd12477",
   "metadata": {
    "tags": []
   },
   "outputs": [],
   "source": [
    "#Even 0s and 1s\n",
    "len_a = len(a)\n",
    "threshold = d.count(1)-d.count(0)\n",
    "j=0\n",
    "for i in range(len(a)):\n",
    "    if d[len_a-i-1] == 1:\n",
    "        a.pop(len_a-i-1)\n",
    "        c.pop(len_a-i-1)\n",
    "        d.pop(len_a-i-1)\n",
    "        j+=1\n",
    "    if j==threshold:\n",
    "        break"
   ]
  },
  {
   "cell_type": "markdown",
   "id": "53f1fb2f-55d6-4d03-b547-07f2c2baadf4",
   "metadata": {
    "tags": []
   },
   "source": [
    "# Set sample"
   ]
  },
  {
   "cell_type": "code",
   "execution_count": 125,
   "id": "c4591686-8777-480c-a587-e500a447250f",
   "metadata": {
    "tags": []
   },
   "outputs": [],
   "source": [
    "X1 = a\n",
    "X2 = c\n",
    "Y = d\n",
    "train_test_split = 0.7\n",
    "split_int = math.ceil(len(X1)*train_test_split)"
   ]
  },
  {
   "cell_type": "code",
   "execution_count": 126,
   "id": "24a6be11-5e1d-45bb-86cb-9e450ade1c97",
   "metadata": {
    "tags": []
   },
   "outputs": [],
   "source": [
    "train_X1 = X1[0:split_int]\n",
    "train_X2 = X2[0:split_int]\n",
    "train_Y = np.array(Y[0:split_int])\n",
    "\n",
    "test_X1 = X1[split_int:]\n",
    "test_X2 = X2[split_int:]\n",
    "test_Y = np.array(Y[split_int:])"
   ]
  },
  {
   "cell_type": "markdown",
   "id": "e160e147-f129-45d1-a3f5-ac18e5cc9b81",
   "metadata": {},
   "source": [
    "# Tokenize"
   ]
  },
  {
   "cell_type": "code",
   "execution_count": 127,
   "id": "8c81923a-f83c-4ff7-8452-5cde6eb73a7e",
   "metadata": {
    "tags": []
   },
   "outputs": [],
   "source": [
    "max_words = 28\n",
    "tokenizer = Tokenizer(num_words=max_words)\n",
    "tokenizer.fit_on_texts(train_X1)"
   ]
  },
  {
   "cell_type": "code",
   "execution_count": 128,
   "id": "f5e46421-1af5-4e83-a3a3-d39c5ae16901",
   "metadata": {
    "tags": []
   },
   "outputs": [],
   "source": [
    "train_sequences = []\n",
    "for seq in tokenizer.texts_to_sequences_generator(train_X1):\n",
    "    train_sequences.append(seq)\n",
    "\n",
    "test_sequences = []\n",
    "for seq in tokenizer.texts_to_sequences_generator(test_X1):\n",
    "    test_sequences.append(seq)\n",
    "    \n",
    "def find_max_list(list):\n",
    "    list_len = [len(i) for i in list]\n",
    "    return (max(list_len))\n",
    "\n",
    "max_length = max(find_max_list(train_sequences), find_max_list(test_sequences))\n",
    "\n",
    "train_padded_X1 = pad_sequences(train_sequences, maxlen=max_length, padding='post')\n",
    "test_padded_X1 = pad_sequences(test_sequences, maxlen=max_length, padding='post')"
   ]
  },
  {
   "cell_type": "code",
   "execution_count": 129,
   "id": "5bafad2a-572c-48c2-b825-86b503ad53ad",
   "metadata": {
    "tags": []
   },
   "outputs": [],
   "source": [
    "#Give padding to time sequence\n",
    "train_padded_X2 = pad_sequences(train_X2, maxlen=max_length, padding='post', value=10000)\n",
    "test_padded_X2 = pad_sequences(test_X2, maxlen=max_length, padding='post', value=10000)"
   ]
  },
  {
   "cell_type": "code",
   "execution_count": 29,
   "id": "17ffc5c5-9379-4534-8891-74a754ba40cd",
   "metadata": {
    "tags": []
   },
   "outputs": [],
   "source": [
    "#stack = np.hstack([train_padded_X1,train_padded_X2])"
   ]
  },
  {
   "cell_type": "code",
   "execution_count": 136,
   "id": "ed2016e2-89fb-438c-9aae-fb9f70efeb51",
   "metadata": {
    "tags": []
   },
   "outputs": [
    {
     "data": {
      "text/plain": [
       "105819"
      ]
     },
     "execution_count": 136,
     "metadata": {},
     "output_type": "execute_result"
    }
   ],
   "source": [
    "len(train_Y)"
   ]
  },
  {
   "cell_type": "markdown",
   "id": "d99d1bc7-d25b-4b7a-a9e9-5b6750830aff",
   "metadata": {
    "tags": []
   },
   "source": [
    "# RNN"
   ]
  },
  {
   "cell_type": "code",
   "execution_count": 130,
   "id": "f0c6560b-23fe-4140-b391-84642acc1902",
   "metadata": {
    "tags": []
   },
   "outputs": [
    {
     "name": "stdout",
     "output_type": "stream",
     "text": [
      "Model: \"RNN\"\n",
      "_________________________________________________________________\n",
      " Layer (type)                Output Shape              Param #   \n",
      "=================================================================\n",
      " input_5 (InputLayer)        [(None, None)]            0         \n",
      "                                                                 \n",
      " embedding_4 (Embedding)     (None, None, 128)         7168      \n",
      "                                                                 \n",
      " lstm_8 (LSTM)               (None, None, 64)          49408     \n",
      "                                                                 \n",
      " lstm_9 (LSTM)               (None, 64)                33024     \n",
      "                                                                 \n",
      " dense_4 (Dense)             (None, 1)                 65        \n",
      "                                                                 \n",
      "=================================================================\n",
      "Total params: 89665 (350.25 KB)\n",
      "Trainable params: 89665 (350.25 KB)\n",
      "Non-trainable params: 0 (0.00 Byte)\n",
      "_________________________________________________________________\n"
     ]
    }
   ],
   "source": [
    "inputs = keras.Input(shape=(None,), dtype=\"int32\")\n",
    "\n",
    "x = layers.Embedding(56, 128, input_length=56)(inputs)\n",
    "x = layers.LSTM(64, return_sequences=True, return_state=False)(x)\n",
    "x = layers.LSTM(64, return_sequences=False, return_state=False)(x)\n",
    "\n",
    "\n",
    "outputs = layers.Dense(1, activation='sigmoid')(x)\n",
    "\n",
    "model = keras.Model(inputs=inputs, outputs=outputs, name='RNN')\n",
    "\n",
    "model.summary()\n",
    "\n",
    "model.compile(keras.optimizers.SGD(learning_rate=0.1), \"binary_crossentropy\", metrics=[\"accuracy\"])"
   ]
  },
  {
   "cell_type": "code",
   "execution_count": 131,
   "id": "aa0ebe28-ba16-4b40-87c6-45c0395157cf",
   "metadata": {
    "tags": []
   },
   "outputs": [
    {
     "name": "stdout",
     "output_type": "stream",
     "text": [
      "Epoch 1/5\n",
      "827/827 [==============================] - 12s 11ms/step - loss: 0.6803 - accuracy: 0.5808\n",
      "Epoch 2/5\n",
      "827/827 [==============================] - 9s 11ms/step - loss: 0.6801 - accuracy: 0.5810\n",
      "Epoch 3/5\n",
      "827/827 [==============================] - 9s 11ms/step - loss: 0.6801 - accuracy: 0.5810\n",
      "Epoch 4/5\n",
      "827/827 [==============================] - 9s 11ms/step - loss: 0.6801 - accuracy: 0.5810\n",
      "Epoch 5/5\n",
      "827/827 [==============================] - 9s 11ms/step - loss: 0.6801 - accuracy: 0.5810\n"
     ]
    }
   ],
   "source": [
    "batch_size = 128\n",
    "epochs = 5\n",
    "history = model.fit(train_padded_X1, train_Y,\n",
    "          batch_size=batch_size,\n",
    "          epochs=epochs)"
   ]
  },
  {
   "cell_type": "code",
   "execution_count": 132,
   "id": "9db245e5-e8de-4463-8fc9-c65b4f632931",
   "metadata": {
    "tags": []
   },
   "outputs": [
    {
     "name": "stdout",
     "output_type": "stream",
     "text": [
      "3307/3307 [==============================] - 14s 4ms/step\n"
     ]
    },
    {
     "data": {
      "text/plain": [
       "array([[0.5748311 ],\n",
       "       [0.5748005 ],\n",
       "       [0.5744455 ],\n",
       "       ...,\n",
       "       [0.57488316],\n",
       "       [0.57494915],\n",
       "       [0.57491606]], dtype=float32)"
      ]
     },
     "execution_count": 132,
     "metadata": {},
     "output_type": "execute_result"
    }
   ],
   "source": [
    "model.predict(train_padded_X1)"
   ]
  },
  {
   "cell_type": "code",
   "execution_count": 133,
   "id": "4a8f7a26-efbf-4089-ba1f-6a9ffb07a6d1",
   "metadata": {
    "tags": []
   },
   "outputs": [
    {
     "name": "stdout",
     "output_type": "stream",
     "text": [
      "Test loss: 0.7615153789520264\n",
      "Test accuracy: 0.3108862042427063\n"
     ]
    },
    {
     "data": {
      "image/png": "[encoded data removed]",
      "text/plain": [
       "<Figure size 1000x1000 with 2 Axes>"
      ]
     },
     "metadata": {},
     "output_type": "display_data"
    }
   ],
   "source": [
    "def eval_model(model, x_test, y_test):\n",
    "    test_scores = model.evaluate(x_test, y_test, verbose=False)\n",
    "    print('Test loss:', test_scores[0])\n",
    "    print('Test accuracy:', test_scores[1])\n",
    "\n",
    "    pred = model.predict(x_test, verbose=False);\n",
    "    pred = pred >= 0.5\n",
    "    \n",
    "    cm = confusion_matrix(y_test, pred)\n",
    "    fig = plt.figure(figsize=[10, 10])\n",
    "    ax = fig.add_subplot(1, 1, 1)\n",
    "    c = ConfusionMatrixDisplay(cm, display_labels=range(2))\n",
    "    c.plot(ax = ax)\n",
    "\n",
    "eval_model(model, test_padded_X1, test_Y)"
   ]
  }
 ],
 "metadata": {
  "kernelspec": {
   "display_name": "Python 3 (ipykernel)",
   "language": "python",
   "name": "python3"
  },
  "language_info": {
   "codemirror_mode": {
    "name": "ipython",
    "version": 3
   },
   "file_extension": ".py",
   "mimetype": "text/x-python",
   "name": "python",
   "nbconvert_exporter": "python",
   "pygments_lexer": "ipython3",
   "version": "3.8.10"
  }
 },
 "nbformat": 4,
 "nbformat_minor": 5
}
